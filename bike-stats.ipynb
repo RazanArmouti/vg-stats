{
 "cells": [
  {
   "cell_type": "code",
   "execution_count": 3,
   "id": "d9395ef4-1ff6-4fa3-a8e8-6404d5f793b5",
   "metadata": {},
   "outputs": [],
   "source": [
    "import pandas as pd\n"
   ]
  },
  {
   "cell_type": "code",
   "execution_count": 9,
   "id": "593809ed-278c-4b18-873d-c77f7ab8d1ad",
   "metadata": {},
   "outputs": [
    {
     "name": "stderr",
     "output_type": "stream",
     "text": [
      "/home/razana888/python-fun/401-Labs/vg-stats/.venv/lib/python3.8/site-packages/IPython/core/interactiveshell.py:3444: FutureWarning: The error_bad_lines argument has been deprecated and will be removed in a future version.\n",
      "\n",
      "\n",
      "  exec(code_obj, self.user_global_ns, self.user_ns)\n",
      "b'Skipping line 50794: expected 12 fields, saw 20\\n'\n"
     ]
    },
    {
     "data": {
      "text/html": [
       "<div>\n",
       "<style scoped>\n",
       "    .dataframe tbody tr th:only-of-type {\n",
       "        vertical-align: middle;\n",
       "    }\n",
       "\n",
       "    .dataframe tbody tr th {\n",
       "        vertical-align: top;\n",
       "    }\n",
       "\n",
       "    .dataframe thead th {\n",
       "        text-align: right;\n",
       "    }\n",
       "</style>\n",
       "<table border=\"1\" class=\"dataframe\">\n",
       "  <thead>\n",
       "    <tr style=\"text-align: right;\">\n",
       "      <th></th>\n",
       "      <th>Date</th>\n",
       "      <th>Max_Temperature_F</th>\n",
       "      <th>Mean_Temperature_F</th>\n",
       "      <th>Min_TemperatureF</th>\n",
       "      <th>Max_Dew_Point_F</th>\n",
       "      <th>MeanDew_Point_F</th>\n",
       "      <th>Min_Dewpoint_F</th>\n",
       "      <th>Max_Humidity</th>\n",
       "      <th>Mean_Humidity</th>\n",
       "      <th>Min_Humidity</th>\n",
       "      <th>...</th>\n",
       "      <th>Mean_Sea_Level_Pressure_In</th>\n",
       "      <th>Min_Sea_Level_Pressure_In</th>\n",
       "      <th>Max_Visibility_Miles</th>\n",
       "      <th>Mean_Visibility_Miles</th>\n",
       "      <th>Min_Visibility_Miles</th>\n",
       "      <th>Max_Wind_Speed_MPH</th>\n",
       "      <th>Mean_Wind_Speed_MPH</th>\n",
       "      <th>Max_Gust_Speed_MPH</th>\n",
       "      <th>Precipitation_In</th>\n",
       "      <th>Events</th>\n",
       "    </tr>\n",
       "  </thead>\n",
       "  <tbody>\n",
       "    <tr>\n",
       "      <th>0</th>\n",
       "      <td>10/13/2014</td>\n",
       "      <td>71</td>\n",
       "      <td>62.0</td>\n",
       "      <td>54</td>\n",
       "      <td>55</td>\n",
       "      <td>51</td>\n",
       "      <td>46</td>\n",
       "      <td>87</td>\n",
       "      <td>68</td>\n",
       "      <td>46</td>\n",
       "      <td>...</td>\n",
       "      <td>29.79</td>\n",
       "      <td>29.65</td>\n",
       "      <td>10</td>\n",
       "      <td>10</td>\n",
       "      <td>4</td>\n",
       "      <td>13</td>\n",
       "      <td>4</td>\n",
       "      <td>21</td>\n",
       "      <td>0.00</td>\n",
       "      <td>Rain</td>\n",
       "    </tr>\n",
       "    <tr>\n",
       "      <th>1</th>\n",
       "      <td>10/14/2014</td>\n",
       "      <td>63</td>\n",
       "      <td>59.0</td>\n",
       "      <td>55</td>\n",
       "      <td>52</td>\n",
       "      <td>51</td>\n",
       "      <td>50</td>\n",
       "      <td>88</td>\n",
       "      <td>78</td>\n",
       "      <td>63</td>\n",
       "      <td>...</td>\n",
       "      <td>29.75</td>\n",
       "      <td>29.54</td>\n",
       "      <td>10</td>\n",
       "      <td>9</td>\n",
       "      <td>3</td>\n",
       "      <td>10</td>\n",
       "      <td>5</td>\n",
       "      <td>17</td>\n",
       "      <td>0.11</td>\n",
       "      <td>Rain</td>\n",
       "    </tr>\n",
       "    <tr>\n",
       "      <th>2</th>\n",
       "      <td>10/15/2014</td>\n",
       "      <td>62</td>\n",
       "      <td>58.0</td>\n",
       "      <td>54</td>\n",
       "      <td>53</td>\n",
       "      <td>50</td>\n",
       "      <td>46</td>\n",
       "      <td>87</td>\n",
       "      <td>77</td>\n",
       "      <td>67</td>\n",
       "      <td>...</td>\n",
       "      <td>29.71</td>\n",
       "      <td>29.51</td>\n",
       "      <td>10</td>\n",
       "      <td>9</td>\n",
       "      <td>3</td>\n",
       "      <td>18</td>\n",
       "      <td>7</td>\n",
       "      <td>25</td>\n",
       "      <td>0.45</td>\n",
       "      <td>Rain</td>\n",
       "    </tr>\n",
       "    <tr>\n",
       "      <th>3</th>\n",
       "      <td>10/16/2014</td>\n",
       "      <td>71</td>\n",
       "      <td>61.0</td>\n",
       "      <td>52</td>\n",
       "      <td>49</td>\n",
       "      <td>46</td>\n",
       "      <td>42</td>\n",
       "      <td>83</td>\n",
       "      <td>61</td>\n",
       "      <td>36</td>\n",
       "      <td>...</td>\n",
       "      <td>29.95</td>\n",
       "      <td>29.81</td>\n",
       "      <td>10</td>\n",
       "      <td>10</td>\n",
       "      <td>10</td>\n",
       "      <td>9</td>\n",
       "      <td>4</td>\n",
       "      <td>-</td>\n",
       "      <td>0.00</td>\n",
       "      <td>Rain</td>\n",
       "    </tr>\n",
       "    <tr>\n",
       "      <th>4</th>\n",
       "      <td>10/17/2014</td>\n",
       "      <td>64</td>\n",
       "      <td>60.0</td>\n",
       "      <td>57</td>\n",
       "      <td>55</td>\n",
       "      <td>51</td>\n",
       "      <td>41</td>\n",
       "      <td>87</td>\n",
       "      <td>72</td>\n",
       "      <td>46</td>\n",
       "      <td>...</td>\n",
       "      <td>29.78</td>\n",
       "      <td>29.73</td>\n",
       "      <td>10</td>\n",
       "      <td>10</td>\n",
       "      <td>6</td>\n",
       "      <td>8</td>\n",
       "      <td>3</td>\n",
       "      <td>-</td>\n",
       "      <td>0.14</td>\n",
       "      <td>Rain</td>\n",
       "    </tr>\n",
       "    <tr>\n",
       "      <th>...</th>\n",
       "      <td>...</td>\n",
       "      <td>...</td>\n",
       "      <td>...</td>\n",
       "      <td>...</td>\n",
       "      <td>...</td>\n",
       "      <td>...</td>\n",
       "      <td>...</td>\n",
       "      <td>...</td>\n",
       "      <td>...</td>\n",
       "      <td>...</td>\n",
       "      <td>...</td>\n",
       "      <td>...</td>\n",
       "      <td>...</td>\n",
       "      <td>...</td>\n",
       "      <td>...</td>\n",
       "      <td>...</td>\n",
       "      <td>...</td>\n",
       "      <td>...</td>\n",
       "      <td>...</td>\n",
       "      <td>...</td>\n",
       "      <td>...</td>\n",
       "    </tr>\n",
       "    <tr>\n",
       "      <th>684</th>\n",
       "      <td>8/27/2016</td>\n",
       "      <td>72</td>\n",
       "      <td>66.0</td>\n",
       "      <td>61</td>\n",
       "      <td>57</td>\n",
       "      <td>54</td>\n",
       "      <td>50</td>\n",
       "      <td>81</td>\n",
       "      <td>65</td>\n",
       "      <td>46</td>\n",
       "      <td>...</td>\n",
       "      <td>29.88</td>\n",
       "      <td>29.77</td>\n",
       "      <td>10</td>\n",
       "      <td>10</td>\n",
       "      <td>10</td>\n",
       "      <td>16</td>\n",
       "      <td>9</td>\n",
       "      <td>NaN</td>\n",
       "      <td>0.00</td>\n",
       "      <td>NaN</td>\n",
       "    </tr>\n",
       "    <tr>\n",
       "      <th>685</th>\n",
       "      <td>8/28/2016</td>\n",
       "      <td>75</td>\n",
       "      <td>68.0</td>\n",
       "      <td>59</td>\n",
       "      <td>54</td>\n",
       "      <td>52</td>\n",
       "      <td>50</td>\n",
       "      <td>80</td>\n",
       "      <td>65</td>\n",
       "      <td>44</td>\n",
       "      <td>...</td>\n",
       "      <td>30.06</td>\n",
       "      <td>30.01</td>\n",
       "      <td>10</td>\n",
       "      <td>10</td>\n",
       "      <td>10</td>\n",
       "      <td>12</td>\n",
       "      <td>9</td>\n",
       "      <td>NaN</td>\n",
       "      <td>0.00</td>\n",
       "      <td>NaN</td>\n",
       "    </tr>\n",
       "    <tr>\n",
       "      <th>686</th>\n",
       "      <td>8/29/2016</td>\n",
       "      <td>81</td>\n",
       "      <td>68.0</td>\n",
       "      <td>55</td>\n",
       "      <td>55</td>\n",
       "      <td>53</td>\n",
       "      <td>50</td>\n",
       "      <td>89</td>\n",
       "      <td>65</td>\n",
       "      <td>39</td>\n",
       "      <td>...</td>\n",
       "      <td>30.02</td>\n",
       "      <td>29.95</td>\n",
       "      <td>10</td>\n",
       "      <td>10</td>\n",
       "      <td>6</td>\n",
       "      <td>9</td>\n",
       "      <td>4</td>\n",
       "      <td>NaN</td>\n",
       "      <td>0.00</td>\n",
       "      <td>NaN</td>\n",
       "    </tr>\n",
       "    <tr>\n",
       "      <th>687</th>\n",
       "      <td>8/30/2016</td>\n",
       "      <td>70</td>\n",
       "      <td>64.0</td>\n",
       "      <td>57</td>\n",
       "      <td>55</td>\n",
       "      <td>53</td>\n",
       "      <td>52</td>\n",
       "      <td>83</td>\n",
       "      <td>69</td>\n",
       "      <td>53</td>\n",
       "      <td>...</td>\n",
       "      <td>30.01</td>\n",
       "      <td>29.97</td>\n",
       "      <td>10</td>\n",
       "      <td>10</td>\n",
       "      <td>10</td>\n",
       "      <td>14</td>\n",
       "      <td>9</td>\n",
       "      <td>18</td>\n",
       "      <td>0.00</td>\n",
       "      <td>NaN</td>\n",
       "    </tr>\n",
       "    <tr>\n",
       "      <th>688</th>\n",
       "      <td>8/31/2016</td>\n",
       "      <td>71</td>\n",
       "      <td>65.0</td>\n",
       "      <td>59</td>\n",
       "      <td>61</td>\n",
       "      <td>56</td>\n",
       "      <td>52</td>\n",
       "      <td>90</td>\n",
       "      <td>77</td>\n",
       "      <td>63</td>\n",
       "      <td>...</td>\n",
       "      <td>29.97</td>\n",
       "      <td>29.96</td>\n",
       "      <td>10</td>\n",
       "      <td>10</td>\n",
       "      <td>8</td>\n",
       "      <td>14</td>\n",
       "      <td>8</td>\n",
       "      <td>NaN</td>\n",
       "      <td>0.00</td>\n",
       "      <td>Rain</td>\n",
       "    </tr>\n",
       "  </tbody>\n",
       "</table>\n",
       "<p>689 rows × 21 columns</p>\n",
       "</div>"
      ],
      "text/plain": [
       "           Date  Max_Temperature_F  Mean_Temperature_F  Min_TemperatureF  \\\n",
       "0    10/13/2014                 71                62.0                54   \n",
       "1    10/14/2014                 63                59.0                55   \n",
       "2    10/15/2014                 62                58.0                54   \n",
       "3    10/16/2014                 71                61.0                52   \n",
       "4    10/17/2014                 64                60.0                57   \n",
       "..          ...                ...                 ...               ...   \n",
       "684   8/27/2016                 72                66.0                61   \n",
       "685   8/28/2016                 75                68.0                59   \n",
       "686   8/29/2016                 81                68.0                55   \n",
       "687   8/30/2016                 70                64.0                57   \n",
       "688   8/31/2016                 71                65.0                59   \n",
       "\n",
       "     Max_Dew_Point_F  MeanDew_Point_F  Min_Dewpoint_F  Max_Humidity  \\\n",
       "0                 55               51              46            87   \n",
       "1                 52               51              50            88   \n",
       "2                 53               50              46            87   \n",
       "3                 49               46              42            83   \n",
       "4                 55               51              41            87   \n",
       "..               ...              ...             ...           ...   \n",
       "684               57               54              50            81   \n",
       "685               54               52              50            80   \n",
       "686               55               53              50            89   \n",
       "687               55               53              52            83   \n",
       "688               61               56              52            90   \n",
       "\n",
       "     Mean_Humidity  Min_Humidity  ...  Mean_Sea_Level_Pressure_In  \\\n",
       "0               68            46  ...                       29.79   \n",
       "1               78            63  ...                       29.75   \n",
       "2               77            67  ...                       29.71   \n",
       "3               61            36  ...                       29.95   \n",
       "4               72            46  ...                       29.78   \n",
       "..             ...           ...  ...                         ...   \n",
       "684             65            46  ...                       29.88   \n",
       "685             65            44  ...                       30.06   \n",
       "686             65            39  ...                       30.02   \n",
       "687             69            53  ...                       30.01   \n",
       "688             77            63  ...                       29.97   \n",
       "\n",
       "     Min_Sea_Level_Pressure_In  Max_Visibility_Miles  Mean_Visibility_Miles  \\\n",
       "0                        29.65                    10                     10   \n",
       "1                        29.54                    10                      9   \n",
       "2                        29.51                    10                      9   \n",
       "3                        29.81                    10                     10   \n",
       "4                        29.73                    10                     10   \n",
       "..                         ...                   ...                    ...   \n",
       "684                      29.77                    10                     10   \n",
       "685                      30.01                    10                     10   \n",
       "686                      29.95                    10                     10   \n",
       "687                      29.97                    10                     10   \n",
       "688                      29.96                    10                     10   \n",
       "\n",
       "     Min_Visibility_Miles  Max_Wind_Speed_MPH  Mean_Wind_Speed_MPH  \\\n",
       "0                       4                  13                    4   \n",
       "1                       3                  10                    5   \n",
       "2                       3                  18                    7   \n",
       "3                      10                   9                    4   \n",
       "4                       6                   8                    3   \n",
       "..                    ...                 ...                  ...   \n",
       "684                    10                  16                    9   \n",
       "685                    10                  12                    9   \n",
       "686                     6                   9                    4   \n",
       "687                    10                  14                    9   \n",
       "688                     8                  14                    8   \n",
       "\n",
       "     Max_Gust_Speed_MPH Precipitation_In  Events  \n",
       "0                    21             0.00    Rain  \n",
       "1                    17             0.11    Rain  \n",
       "2                    25             0.45    Rain  \n",
       "3                     -             0.00    Rain  \n",
       "4                     -             0.14    Rain  \n",
       "..                  ...              ...     ...  \n",
       "684                 NaN             0.00     NaN  \n",
       "685                 NaN             0.00     NaN  \n",
       "686                 NaN             0.00     NaN  \n",
       "687                  18             0.00     NaN  \n",
       "688                 NaN             0.00    Rain  \n",
       "\n",
       "[689 rows x 21 columns]"
      ]
     },
     "execution_count": 9,
     "metadata": {},
     "output_type": "execute_result"
    }
   ],
   "source": [
    "df_trip = pd.read_csv(\"trip.csv\",error_bad_lines=False)\n",
    "df_weather = pd.read_csv(\"weather.csv\")\n",
    "df_stations = pd.read_csv(\"station.csv\")\n",
    "df_trip\n",
    "df_weather\n"
   ]
  },
  {
   "cell_type": "markdown",
   "id": "a903bb77-27f5-40c5-8382-4b3e84faaa0d",
   "metadata": {},
   "source": [
    "# What is the average trip duration for a borrowed bicycle?"
   ]
  },
  {
   "cell_type": "code",
   "execution_count": 6,
   "id": "7fc5aa10-90d8-41f3-81ca-9c6e3944c211",
   "metadata": {},
   "outputs": [
    {
     "data": {
      "text/plain": [
       "1178.2956753399776"
      ]
     },
     "execution_count": 6,
     "metadata": {},
     "output_type": "execute_result"
    }
   ],
   "source": [
    "average_trip_duration = df_trip[\"tripduration\"].mean()\n",
    "average_trip_duration"
   ]
  },
  {
   "cell_type": "markdown",
   "id": "eee3ec86-0df6-4216-9413-9d6e2b90bd88",
   "metadata": {},
   "source": [
    "# What’s the most common age of a bicycle-sharer?"
   ]
  },
  {
   "cell_type": "code",
   "execution_count": 11,
   "id": "6e814095-2710-4098-9f36-636b7de5adfa",
   "metadata": {},
   "outputs": [
    {
     "data": {
      "text/plain": [
       "34"
      ]
     },
     "execution_count": 11,
     "metadata": {},
     "output_type": "execute_result"
    }
   ],
   "source": [
    "year = df_trip[\"birthyear\"].mode()[0]\n",
    "most_common_age =int(2021 - year)\n",
    "most_common_age\n"
   ]
  },
  {
   "cell_type": "markdown",
   "id": "db325ed1-238d-44bb-9452-448828dffa06",
   "metadata": {},
   "source": [
    "# Given all the weather data here, find the average precipitation per month, and the median precipitation.\n"
   ]
  },
  {
   "cell_type": "code",
   "execution_count": 12,
   "id": "d2c66811-1457-45f7-bccb-543bd89779ac",
   "metadata": {},
   "outputs": [
    {
     "data": {
      "text/plain": [
       "Date\n",
       "2014-10    0.300526\n",
       "2014-11    0.141667\n",
       "2014-12    0.145161\n",
       "2015-01    0.070645\n",
       "2015-02    0.163214\n",
       "2015-03    0.135161\n",
       "2015-04    0.056667\n",
       "2015-05    0.014194\n",
       "2015-06    0.005667\n",
       "2015-07    0.008710\n",
       "2015-08    0.035484\n",
       "2015-09    0.041000\n",
       "2015-10    0.120645\n",
       "2015-11    0.234000\n",
       "2015-12    0.327419\n",
       "2016-01    0.216452\n",
       "2016-02    0.173448\n",
       "2016-03    0.178710\n",
       "2016-04    0.046000\n",
       "2016-05    0.010645\n",
       "2016-06    0.055333\n",
       "2016-07    0.015484\n",
       "2016-08    0.000968\n",
       "Freq: M, Name: Precipitation_In, dtype: float64"
      ]
     },
     "execution_count": 12,
     "metadata": {},
     "output_type": "execute_result"
    }
   ],
   "source": [
    "def average_precipitation_per_month():\n",
    "    return df_weather.groupby(pd.PeriodIndex(df_weather['Date'], freq=\"M\"))['Precipitation_In'].mean()\n",
    "average_precipitation_per_month()\n"
   ]
  },
  {
   "cell_type": "code",
   "execution_count": 13,
   "id": "1d708091-39c6-4b09-8933-e7062cbaaf34",
   "metadata": {},
   "outputs": [
    {
     "data": {
      "text/plain": [
       "Date\n",
       "2014-10    0.140\n",
       "2014-11    0.010\n",
       "2014-12    0.010\n",
       "2015-01    0.010\n",
       "2015-02    0.025\n",
       "2015-03    0.000\n",
       "2015-04    0.000\n",
       "2015-05    0.000\n",
       "2015-06    0.000\n",
       "2015-07    0.000\n",
       "2015-08    0.000\n",
       "2015-09    0.000\n",
       "2015-10    0.010\n",
       "2015-11    0.065\n",
       "2015-12    0.120\n",
       "2016-01    0.070\n",
       "2016-02    0.080\n",
       "2016-03    0.060\n",
       "2016-04    0.000\n",
       "2016-05    0.000\n",
       "2016-06    0.000\n",
       "2016-07    0.000\n",
       "2016-08    0.000\n",
       "Freq: M, Name: Precipitation_In, dtype: float64"
      ]
     },
     "execution_count": 13,
     "metadata": {},
     "output_type": "execute_result"
    }
   ],
   "source": [
    "def median_precipitation_per_month():\n",
    "    return df_weather.groupby(pd.PeriodIndex(df_weather['Date'], freq=\"M\"))['Precipitation_In'].median()\n",
    "median_precipitation_per_month()"
   ]
  },
  {
   "cell_type": "markdown",
   "id": "ee32b938-5b1f-4905-bd3a-1ae363d2f986",
   "metadata": {},
   "source": [
    "# What’s the average number of bikes at a given bike station?"
   ]
  },
  {
   "cell_type": "code",
   "execution_count": 16,
   "id": "29df30fd-1041-4ccc-8bd9-a2d4e5f900af",
   "metadata": {},
   "outputs": [
    {
     "data": {
      "text/plain": [
       "17.586206896551722"
      ]
     },
     "execution_count": 16,
     "metadata": {},
     "output_type": "execute_result"
    }
   ],
   "source": [
    "bikes_average = df_stations[\"install_dockcount\"].mean()\n",
    "bikes_average"
   ]
  },
  {
   "cell_type": "markdown",
   "id": "a818c6b8-fecd-4e43-9e5b-d99aa6fadc8f",
   "metadata": {},
   "source": [
    "# When a bike station is modified, is it more likely that it’ll lose bikes or gain bikes? How do you know?"
   ]
  },
  {
   "cell_type": "code",
   "execution_count": 17,
   "id": "e858f2a7-a114-49f7-b796-a35004e7f618",
   "metadata": {},
   "outputs": [
    {
     "data": {
      "text/plain": [
       "'you lost bikes'"
      ]
     },
     "execution_count": 17,
     "metadata": {},
     "output_type": "execute_result"
    }
   ],
   "source": [
    "current_bike_average = df_stations[\"current_dockcount\"].mean()\n",
    "current_bike_average\n",
    "\n",
    "if current_bike_average < bikes_average:\n",
    "    result = \"you lost bikes\"\n",
    "else:\n",
    "    result =\"you gain bikes\"\n",
    "\n",
    "result"
   ]
  },
  {
   "cell_type": "markdown",
   "id": "a653d422-ec72-4d77-be82-7fa1311d9978",
   "metadata": {},
   "source": [
    "# Come up with 3 more questions that can be answered with this data set."
   ]
  },
  {
   "cell_type": "markdown",
   "id": "c4304238-6686-4038-865a-35b4b8fcf4b8",
   "metadata": {},
   "source": [
    "### 1. what is the name of station that have CBD-03 id?"
   ]
  },
  {
   "cell_type": "code",
   "execution_count": 49,
   "id": "ffa26783-826a-4783-b483-ddf849252182",
   "metadata": {},
   "outputs": [
    {
     "data": {
      "text/plain": [
       "'7th Ave & Union St'"
      ]
     },
     "execution_count": 49,
     "metadata": {},
     "output_type": "execute_result"
    }
   ],
   "source": [
    "station_name = df_stations[df_stations[\"station_id\"] == \"CBD-03\"][\"name\"][4]\n",
    "station_name\n"
   ]
  },
  {
   "cell_type": "markdown",
   "id": "85e40829-417a-428f-ad81-377934cfbe95",
   "metadata": {},
   "source": [
    "### 2. what is the Max_Temperature_F of 8/27/2016 ?\n"
   ]
  },
  {
   "cell_type": "code",
   "execution_count": 56,
   "id": "1588eefc-48c4-4c7f-aa5b-4f31f91c7852",
   "metadata": {},
   "outputs": [
    {
     "data": {
      "text/plain": [
       "72"
      ]
     },
     "execution_count": 56,
     "metadata": {},
     "output_type": "execute_result"
    }
   ],
   "source": [
    "max_temp = df_weather[df_weather[\"Date\"] == \"8/27/2016\"][\"Max_Temperature_F\"][684]\n",
    "max_temp"
   ]
  },
  {
   "cell_type": "markdown",
   "id": "cda7d9f2-c02a-4929-ae1d-e0c78aeb329e",
   "metadata": {},
   "source": [
    "### 3. what is the start point for the trip that have the highest number of males ?"
   ]
  },
  {
   "cell_type": "code",
   "execution_count": 33,
   "id": "eefbb174-6e38-4a97-b261-6e5fc4e8b3a9",
   "metadata": {},
   "outputs": [
    {
     "data": {
      "text/plain": [
       "'Harvard Ave & E Pine St'"
      ]
     },
     "execution_count": 33,
     "metadata": {},
     "output_type": "execute_result"
    }
   ],
   "source": [
    "user_types = df_trip.set_index(\"trip_id\")\n",
    "gender = user_types[user_types[\"gender\"] == \"Male\"].value_counts().idxmax()[4]\n",
    "gender\n"
   ]
  },
  {
   "cell_type": "markdown",
   "id": "1a4ae83a-0338-442d-bd84-f82860ac3e32",
   "metadata": {},
   "source": [
    "# User Acceptance Tests"
   ]
  },
  {
   "cell_type": "code",
   "execution_count": 59,
   "id": "1b7ecec0-d51a-4b2d-84be-a0f1e97262d6",
   "metadata": {},
   "outputs": [
    {
     "name": "stdout",
     "output_type": "stream",
     "text": [
      "Success!!!\n"
     ]
    }
   ],
   "source": [
    "def test():\n",
    "\n",
    "    def assert_equal(actual,expected):\n",
    "        assert actual == expected, f\"Expected {expected} but got {actual}\"\n",
    "    assert_equal(average_trip_duration,1178.2956753399776)\n",
    "    assert_equal(most_common_age, 34)\n",
    "    assert_equal(precipitation_avg, 3.1519593613933234)\n",
    "    assert_equal(precipitation_median, 0.0)\n",
    "    assert_equal(bikes_average,17.586206896551722)\n",
    "    assert_equal(station_name, '7th Ave & Union St')\n",
    "    assert_equal(result,'you lost bikes')\n",
    "    assert_equal(max_temp, 72)\n",
    "    assert_equal(gender,'Harvard Ave & E Pine St')\n",
    "\n",
    "    print(\"Success!!!\")\n",
    "\n",
    "test()"
   ]
  },
  {
   "cell_type": "code",
   "execution_count": null,
   "id": "4bc3577e-c7d9-4940-84cf-c2cc73b38489",
   "metadata": {},
   "outputs": [],
   "source": []
  }
 ],
 "metadata": {
  "kernelspec": {
   "display_name": "Python 3 (ipykernel)",
   "language": "python",
   "name": "python3"
  },
  "language_info": {
   "codemirror_mode": {
    "name": "ipython",
    "version": 3
   },
   "file_extension": ".py",
   "mimetype": "text/x-python",
   "name": "python",
   "nbconvert_exporter": "python",
   "pygments_lexer": "ipython3",
   "version": "3.8.10"
  }
 },
 "nbformat": 4,
 "nbformat_minor": 5
}
