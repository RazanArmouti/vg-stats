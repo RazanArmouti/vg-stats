{
 "cells": [
  {
   "cell_type": "code",
   "execution_count": 2,
   "id": "5ee38f6b-ba8d-459a-956b-3f45c0d10e99",
   "metadata": {},
   "outputs": [],
   "source": [
    "import pandas as pd"
   ]
  },
  {
   "cell_type": "code",
   "execution_count": 4,
   "id": "a7fa907e-9ec2-4a4e-bfc4-a8b5f2574370",
   "metadata": {},
   "outputs": [
    {
     "data": {
      "text/html": [
       "<div>\n",
       "<style scoped>\n",
       "    .dataframe tbody tr th:only-of-type {\n",
       "        vertical-align: middle;\n",
       "    }\n",
       "\n",
       "    .dataframe tbody tr th {\n",
       "        vertical-align: top;\n",
       "    }\n",
       "\n",
       "    .dataframe thead th {\n",
       "        text-align: right;\n",
       "    }\n",
       "</style>\n",
       "<table border=\"1\" class=\"dataframe\">\n",
       "  <thead>\n",
       "    <tr style=\"text-align: right;\">\n",
       "      <th></th>\n",
       "      <th>Rank</th>\n",
       "      <th>Name</th>\n",
       "      <th>Platform</th>\n",
       "      <th>Year</th>\n",
       "      <th>Genre</th>\n",
       "      <th>Publisher</th>\n",
       "      <th>NA_Sales</th>\n",
       "      <th>EU_Sales</th>\n",
       "      <th>JP_Sales</th>\n",
       "      <th>Other_Sales</th>\n",
       "      <th>Global_Sales</th>\n",
       "    </tr>\n",
       "  </thead>\n",
       "  <tbody>\n",
       "    <tr>\n",
       "      <th>0</th>\n",
       "      <td>1</td>\n",
       "      <td>Wii Sports</td>\n",
       "      <td>Wii</td>\n",
       "      <td>2006.0</td>\n",
       "      <td>Sports</td>\n",
       "      <td>Nintendo</td>\n",
       "      <td>41.49</td>\n",
       "      <td>29.02</td>\n",
       "      <td>3.77</td>\n",
       "      <td>8.46</td>\n",
       "      <td>82.74</td>\n",
       "    </tr>\n",
       "    <tr>\n",
       "      <th>1</th>\n",
       "      <td>2</td>\n",
       "      <td>Super Mario Bros.</td>\n",
       "      <td>NES</td>\n",
       "      <td>1985.0</td>\n",
       "      <td>Platform</td>\n",
       "      <td>Nintendo</td>\n",
       "      <td>29.08</td>\n",
       "      <td>3.58</td>\n",
       "      <td>6.81</td>\n",
       "      <td>0.77</td>\n",
       "      <td>40.24</td>\n",
       "    </tr>\n",
       "    <tr>\n",
       "      <th>2</th>\n",
       "      <td>3</td>\n",
       "      <td>Mario Kart Wii</td>\n",
       "      <td>Wii</td>\n",
       "      <td>2008.0</td>\n",
       "      <td>Racing</td>\n",
       "      <td>Nintendo</td>\n",
       "      <td>15.85</td>\n",
       "      <td>12.88</td>\n",
       "      <td>3.79</td>\n",
       "      <td>3.31</td>\n",
       "      <td>35.82</td>\n",
       "    </tr>\n",
       "    <tr>\n",
       "      <th>3</th>\n",
       "      <td>4</td>\n",
       "      <td>Wii Sports Resort</td>\n",
       "      <td>Wii</td>\n",
       "      <td>2009.0</td>\n",
       "      <td>Sports</td>\n",
       "      <td>Nintendo</td>\n",
       "      <td>15.75</td>\n",
       "      <td>11.01</td>\n",
       "      <td>3.28</td>\n",
       "      <td>2.96</td>\n",
       "      <td>33.00</td>\n",
       "    </tr>\n",
       "    <tr>\n",
       "      <th>4</th>\n",
       "      <td>5</td>\n",
       "      <td>Pokemon Red/Pokemon Blue</td>\n",
       "      <td>GB</td>\n",
       "      <td>1996.0</td>\n",
       "      <td>Role-Playing</td>\n",
       "      <td>Nintendo</td>\n",
       "      <td>11.27</td>\n",
       "      <td>8.89</td>\n",
       "      <td>10.22</td>\n",
       "      <td>1.00</td>\n",
       "      <td>31.37</td>\n",
       "    </tr>\n",
       "    <tr>\n",
       "      <th>...</th>\n",
       "      <td>...</td>\n",
       "      <td>...</td>\n",
       "      <td>...</td>\n",
       "      <td>...</td>\n",
       "      <td>...</td>\n",
       "      <td>...</td>\n",
       "      <td>...</td>\n",
       "      <td>...</td>\n",
       "      <td>...</td>\n",
       "      <td>...</td>\n",
       "      <td>...</td>\n",
       "    </tr>\n",
       "    <tr>\n",
       "      <th>16593</th>\n",
       "      <td>16596</td>\n",
       "      <td>Woody Woodpecker in Crazy Castle 5</td>\n",
       "      <td>GBA</td>\n",
       "      <td>2002.0</td>\n",
       "      <td>Platform</td>\n",
       "      <td>Kemco</td>\n",
       "      <td>0.01</td>\n",
       "      <td>0.00</td>\n",
       "      <td>0.00</td>\n",
       "      <td>0.00</td>\n",
       "      <td>0.01</td>\n",
       "    </tr>\n",
       "    <tr>\n",
       "      <th>16594</th>\n",
       "      <td>16597</td>\n",
       "      <td>Men in Black II: Alien Escape</td>\n",
       "      <td>GC</td>\n",
       "      <td>2003.0</td>\n",
       "      <td>Shooter</td>\n",
       "      <td>Infogrames</td>\n",
       "      <td>0.01</td>\n",
       "      <td>0.00</td>\n",
       "      <td>0.00</td>\n",
       "      <td>0.00</td>\n",
       "      <td>0.01</td>\n",
       "    </tr>\n",
       "    <tr>\n",
       "      <th>16595</th>\n",
       "      <td>16598</td>\n",
       "      <td>SCORE International Baja 1000: The Official Game</td>\n",
       "      <td>PS2</td>\n",
       "      <td>2008.0</td>\n",
       "      <td>Racing</td>\n",
       "      <td>Activision</td>\n",
       "      <td>0.00</td>\n",
       "      <td>0.00</td>\n",
       "      <td>0.00</td>\n",
       "      <td>0.00</td>\n",
       "      <td>0.01</td>\n",
       "    </tr>\n",
       "    <tr>\n",
       "      <th>16596</th>\n",
       "      <td>16599</td>\n",
       "      <td>Know How 2</td>\n",
       "      <td>DS</td>\n",
       "      <td>2010.0</td>\n",
       "      <td>Puzzle</td>\n",
       "      <td>7G//AMES</td>\n",
       "      <td>0.00</td>\n",
       "      <td>0.01</td>\n",
       "      <td>0.00</td>\n",
       "      <td>0.00</td>\n",
       "      <td>0.01</td>\n",
       "    </tr>\n",
       "    <tr>\n",
       "      <th>16597</th>\n",
       "      <td>16600</td>\n",
       "      <td>Spirits &amp; Spells</td>\n",
       "      <td>GBA</td>\n",
       "      <td>2003.0</td>\n",
       "      <td>Platform</td>\n",
       "      <td>Wanadoo</td>\n",
       "      <td>0.01</td>\n",
       "      <td>0.00</td>\n",
       "      <td>0.00</td>\n",
       "      <td>0.00</td>\n",
       "      <td>0.01</td>\n",
       "    </tr>\n",
       "  </tbody>\n",
       "</table>\n",
       "<p>16598 rows × 11 columns</p>\n",
       "</div>"
      ],
      "text/plain": [
       "        Rank                                              Name Platform  \\\n",
       "0          1                                        Wii Sports      Wii   \n",
       "1          2                                 Super Mario Bros.      NES   \n",
       "2          3                                    Mario Kart Wii      Wii   \n",
       "3          4                                 Wii Sports Resort      Wii   \n",
       "4          5                          Pokemon Red/Pokemon Blue       GB   \n",
       "...      ...                                               ...      ...   \n",
       "16593  16596                Woody Woodpecker in Crazy Castle 5      GBA   \n",
       "16594  16597                     Men in Black II: Alien Escape       GC   \n",
       "16595  16598  SCORE International Baja 1000: The Official Game      PS2   \n",
       "16596  16599                                        Know How 2       DS   \n",
       "16597  16600                                  Spirits & Spells      GBA   \n",
       "\n",
       "         Year         Genre   Publisher  NA_Sales  EU_Sales  JP_Sales  \\\n",
       "0      2006.0        Sports    Nintendo     41.49     29.02      3.77   \n",
       "1      1985.0      Platform    Nintendo     29.08      3.58      6.81   \n",
       "2      2008.0        Racing    Nintendo     15.85     12.88      3.79   \n",
       "3      2009.0        Sports    Nintendo     15.75     11.01      3.28   \n",
       "4      1996.0  Role-Playing    Nintendo     11.27      8.89     10.22   \n",
       "...       ...           ...         ...       ...       ...       ...   \n",
       "16593  2002.0      Platform       Kemco      0.01      0.00      0.00   \n",
       "16594  2003.0       Shooter  Infogrames      0.01      0.00      0.00   \n",
       "16595  2008.0        Racing  Activision      0.00      0.00      0.00   \n",
       "16596  2010.0        Puzzle    7G//AMES      0.00      0.01      0.00   \n",
       "16597  2003.0      Platform     Wanadoo      0.01      0.00      0.00   \n",
       "\n",
       "       Other_Sales  Global_Sales  \n",
       "0             8.46         82.74  \n",
       "1             0.77         40.24  \n",
       "2             3.31         35.82  \n",
       "3             2.96         33.00  \n",
       "4             1.00         31.37  \n",
       "...            ...           ...  \n",
       "16593         0.00          0.01  \n",
       "16594         0.00          0.01  \n",
       "16595         0.00          0.01  \n",
       "16596         0.00          0.01  \n",
       "16597         0.00          0.01  \n",
       "\n",
       "[16598 rows x 11 columns]"
      ]
     },
     "execution_count": 4,
     "metadata": {},
     "output_type": "execute_result"
    }
   ],
   "source": [
    "df=pd.read_csv(\"vgsales.csv\")\n",
    "df"
   ]
  },
  {
   "cell_type": "markdown",
   "id": "8d153bf3-8319-4243-ad4b-acfdd5abe5ce",
   "metadata": {},
   "source": [
    "# Which company is the most common video game publisher?\n"
   ]
  },
  {
   "cell_type": "code",
   "execution_count": 6,
   "id": "8fa171f5-5041-4ed7-b8ca-e0b99c184499",
   "metadata": {},
   "outputs": [
    {
     "data": {
      "text/plain": [
       "'Electronic Arts'"
      ]
     },
     "execution_count": 6,
     "metadata": {},
     "output_type": "execute_result"
    }
   ],
   "source": [
    "game_publisher=df['Publisher']\n",
    "common_publisher=game_publisher.value_counts().idxmax()\n",
    "common_publisher"
   ]
  },
  {
   "cell_type": "markdown",
   "id": "9d5b99cb-6ed4-4d35-aa93-14a1564a4196",
   "metadata": {},
   "source": [
    "# What’s the most common platform?"
   ]
  },
  {
   "cell_type": "code",
   "execution_count": 7,
   "id": "63710b6d-3f43-4e19-bb50-5f75fdc994e7",
   "metadata": {},
   "outputs": [
    {
     "data": {
      "text/plain": [
       "'DS'"
      ]
     },
     "execution_count": 7,
     "metadata": {},
     "output_type": "execute_result"
    }
   ],
   "source": [
    "platform=df['Platform']\n",
    "common_platform= platform.value_counts().idxmax()\n",
    "common_platform\n"
   ]
  },
  {
   "cell_type": "markdown",
   "id": "f35cfe7b-3723-4b64-bbfd-27b813ca7010",
   "metadata": {},
   "source": [
    "# What about the most common genre?"
   ]
  },
  {
   "cell_type": "code",
   "execution_count": 8,
   "id": "d96b9be0-3fae-4b99-acd3-8aaf8c07ecee",
   "metadata": {},
   "outputs": [
    {
     "data": {
      "text/plain": [
       "'Action'"
      ]
     },
     "execution_count": 8,
     "metadata": {},
     "output_type": "execute_result"
    }
   ],
   "source": [
    "genre=df['Genre']\n",
    "common_genre=genre.value_counts().idxmax()\n",
    "common_genre\n"
   ]
  },
  {
   "cell_type": "markdown",
   "id": "e261bb0f-80a7-43d9-a5db-336cc09df4c0",
   "metadata": {},
   "source": [
    "# What are the top 20 highest grossing games?"
   ]
  },
  {
   "cell_type": "code",
   "execution_count": 10,
   "id": "d340e49e-cce6-4800-803e-39e781a0f43e",
   "metadata": {},
   "outputs": [
    {
     "data": {
      "text/plain": [
       "Global_Sales\n",
       "82.74                                      Wii Sports\n",
       "40.24                               Super Mario Bros.\n",
       "35.82                                  Mario Kart Wii\n",
       "33.00                               Wii Sports Resort\n",
       "31.37                        Pokemon Red/Pokemon Blue\n",
       "30.26                                          Tetris\n",
       "30.01                           New Super Mario Bros.\n",
       "29.02                                        Wii Play\n",
       "28.62                       New Super Mario Bros. Wii\n",
       "28.31                                       Duck Hunt\n",
       "24.76                                      Nintendogs\n",
       "23.42                                   Mario Kart DS\n",
       "23.10                     Pokemon Gold/Pokemon Silver\n",
       "22.72                                         Wii Fit\n",
       "22.00                                    Wii Fit Plus\n",
       "21.82                              Kinect Adventures!\n",
       "21.40                              Grand Theft Auto V\n",
       "20.81                   Grand Theft Auto: San Andreas\n",
       "20.61                               Super Mario World\n",
       "20.22    Brain Age: Train Your Brain in Minutes a Day\n",
       "Name: Name, dtype: object"
      ]
     },
     "execution_count": 10,
     "metadata": {},
     "output_type": "execute_result"
    }
   ],
   "source": [
    "grossing_games=df.set_index('Global_Sales')\n",
    "top20_grossing_games=grossing_games.sort_index(ascending=False).head(20)[\"Name\"]\n",
    "top20_grossing_games\n"
   ]
  },
  {
   "cell_type": "markdown",
   "id": "1245608c-0234-4d17-ba63-95ca70993893",
   "metadata": {},
   "source": [
    "# For North American video game sales, what’s the median?\n",
    " * Provide a secondary output showing ten games surrounding the median sales output\n",
    "    * assume that games with same median value are sorted in descending order"
   ]
  },
  {
   "cell_type": "code",
   "execution_count": 14,
   "id": "f285e64c-426d-4b9f-a7db-689bd9c42489",
   "metadata": {},
   "outputs": [
    {
     "data": {
      "text/plain": [
       "446                                     Dragon Warrior IV\n",
       "497           World Soccer Winning Eleven 7 International\n",
       "1617                               Farming Simulator 2015\n",
       "1926                            Pro Evolution Soccer 2008\n",
       "2067    Winning Eleven: Pro Evolution Soccer 2007 (All...\n",
       "2373                             Phantasy Star Portable 2\n",
       "2579                                 The Sims 2: Castaway\n",
       "3186                                       SingStar Queen\n",
       "3503                                           Top Spin 3\n",
       "3703                 Sonic & All-Stars Racing Transformed\n",
       "Name: Name, dtype: object"
      ]
     },
     "execution_count": 14,
     "metadata": {},
     "output_type": "execute_result"
    }
   ],
   "source": [
    "na_median_sales=df[\"NA_Sales\"].median()\n",
    "around_median = df[ df[\"NA_Sales\"] ==na_median_sales]\n",
    "ten_median_na_seller_names =around_median.head(10)[\"Name\"]\n",
    "ten_median_na_seller_names\n",
    "\n"
   ]
  },
  {
   "cell_type": "markdown",
   "id": "fd1f31f5-b21b-45cf-bc6d-8c7f4e489f96",
   "metadata": {},
   "source": [
    "# For the top-selling game of all time, how many standard deviations above/below the mean are its sales for North America?"
   ]
  },
  {
   "cell_type": "code",
   "execution_count": 24,
   "id": "c54147bb-9396-4ee6-85d8-4826438d8d9e",
   "metadata": {},
   "outputs": [
    {
     "data": {
      "text/plain": [
       "50.47898767479108"
      ]
     },
     "execution_count": 24,
     "metadata": {},
     "output_type": "execute_result"
    }
   ],
   "source": [
    "na_sales_mean=df[\"NA_Sales\"].mean()\n",
    "top_selling = df[\"NA_Sales\"].iloc[0]\n",
    "selling_std=df[\"NA_Sales\"].std()\n",
    "na_std = (top_selling-na_sales_mean) / selling_std\n",
    "na_std\n"
   ]
  },
  {
   "cell_type": "markdown",
   "id": "72130826-173a-4f8c-a1e4-3aba4353b3b8",
   "metadata": {},
   "source": [
    "# The Nintendo Wii seems to have outdone itself with games. How does its average number of sales compare with all of the other platforms?"
   ]
  },
  {
   "cell_type": "code",
   "execution_count": 26,
   "id": "6b71c05c-f610-43d6-8605-3e4cb459bb79",
   "metadata": {},
   "outputs": [
    {
     "data": {
      "text/plain": [
       "(0.5233896418516336, 0.6994037735849057)"
      ]
     },
     "execution_count": 26,
     "metadata": {},
     "output_type": "execute_result"
    }
   ],
   "source": [
    "nintendo_wii=df.groupby(df[\"Platform\"]==\"Wii\")[\"Global_Sales\"].mean()\n",
    "no_of_sales=(nintendo_wii[0],nintendo_wii[1])\n",
    "no_of_sales\n"
   ]
  },
  {
   "cell_type": "markdown",
   "id": "a63caf93-ce83-4bd1-b7e9-ffa0e4a84f54",
   "metadata": {},
   "source": [
    "# Come up with 3 more questions that can be answered with this data set."
   ]
  },
  {
   "cell_type": "markdown",
   "id": "944602ab-40ec-44e4-86e6-ed53540649fe",
   "metadata": {},
   "source": [
    "### 1. What is the newest game ?"
   ]
  },
  {
   "cell_type": "code",
   "execution_count": 28,
   "id": "c255f8c9-a6ec-4deb-9809-67dc40e97e11",
   "metadata": {},
   "outputs": [
    {
     "data": {
      "text/plain": [
       "2020.0"
      ]
     },
     "execution_count": 28,
     "metadata": {},
     "output_type": "execute_result"
    }
   ],
   "source": [
    "years=df[\"Year\"]\n",
    "newest_game=years.value_counts().sort_index(ascending=False).idxmin()\n",
    "newest_game\n"
   ]
  },
  {
   "cell_type": "markdown",
   "id": "b9b2c3c5-d9bb-4de5-9b9d-1fa3ae7de787",
   "metadata": {},
   "source": [
    "### 2. What is the mean for JP sales?"
   ]
  },
  {
   "cell_type": "code",
   "execution_count": 29,
   "id": "cde6c34a-8711-4d93-8cfd-144e0c4a6b02",
   "metadata": {},
   "outputs": [
    {
     "data": {
      "text/plain": [
       "0.077781660441017"
      ]
     },
     "execution_count": 29,
     "metadata": {},
     "output_type": "execute_result"
    }
   ],
   "source": [
    "JP_mean_sales = df[\"JP_Sales\"].mean()\n",
    "JP_mean_sales"
   ]
  },
  {
   "cell_type": "markdown",
   "id": "4423d923-a902-4325-8b5c-6ee5e3e061b7",
   "metadata": {},
   "source": [
    "### 3. What is the the range for EU_Sales ?\n"
   ]
  },
  {
   "cell_type": "code",
   "execution_count": 32,
   "id": "2217fa76-f4c6-4f4f-a786-eefa6c998229",
   "metadata": {},
   "outputs": [
    {
     "data": {
      "text/plain": [
       "29.02"
      ]
     },
     "execution_count": 32,
     "metadata": {},
     "output_type": "execute_result"
    }
   ],
   "source": [
    "EU_max_sales = df[\"EU_Sales\"].max()\n",
    "EU_min_sales = df[\"EU_Sales\"].min()\n",
    "\n",
    "EU_range_sales =EU_max_sales - EU_min_sales\n",
    "EU_range_sales \n"
   ]
  },
  {
   "cell_type": "markdown",
   "id": "6e35fca4-5c15-4b3a-8e41-87bb339a4f60",
   "metadata": {},
   "source": [
    "# User Acceptance Tests"
   ]
  },
  {
   "cell_type": "code",
   "execution_count": 33,
   "id": "bb963b31-bb59-40d1-9b91-ecd57725e1c2",
   "metadata": {},
   "outputs": [
    {
     "ename": "AssertionError",
     "evalue": "Expected 0.14665200626581515 but got 0.077781660441017",
     "output_type": "error",
     "traceback": [
      "\u001b[0;31m---------------------------------------------------------------------------\u001b[0m",
      "\u001b[0;31mAssertionError\u001b[0m                            Traceback (most recent call last)",
      "\u001b[0;32m/tmp/ipykernel_879/466837830.py\u001b[0m in \u001b[0;36m<module>\u001b[0;34m\u001b[0m\n\u001b[1;32m     16\u001b[0m     \u001b[0mprint\u001b[0m\u001b[0;34m(\u001b[0m\u001b[0;34m\"Success!!!\"\u001b[0m\u001b[0;34m)\u001b[0m\u001b[0;34m\u001b[0m\u001b[0;34m\u001b[0m\u001b[0m\n\u001b[1;32m     17\u001b[0m \u001b[0;34m\u001b[0m\u001b[0m\n\u001b[0;32m---> 18\u001b[0;31m \u001b[0mtest\u001b[0m\u001b[0;34m(\u001b[0m\u001b[0;34m)\u001b[0m\u001b[0;34m\u001b[0m\u001b[0;34m\u001b[0m\u001b[0m\n\u001b[0m",
      "\u001b[0;32m/tmp/ipykernel_879/466837830.py\u001b[0m in \u001b[0;36mtest\u001b[0;34m()\u001b[0m\n\u001b[1;32m     12\u001b[0m     \u001b[0massert_equal\u001b[0m\u001b[0;34m(\u001b[0m\u001b[0mno_of_sales\u001b[0m\u001b[0;34m[\u001b[0m\u001b[0;36m1\u001b[0m\u001b[0;34m]\u001b[0m\u001b[0;34m,\u001b[0m \u001b[0;36m0.6994037735849057\u001b[0m\u001b[0;34m)\u001b[0m\u001b[0;34m\u001b[0m\u001b[0;34m\u001b[0m\u001b[0m\n\u001b[1;32m     13\u001b[0m     \u001b[0massert_equal\u001b[0m\u001b[0;34m(\u001b[0m\u001b[0mnewest_game\u001b[0m\u001b[0;34m,\u001b[0m\u001b[0;36m2020.0\u001b[0m\u001b[0;34m)\u001b[0m\u001b[0;34m\u001b[0m\u001b[0;34m\u001b[0m\u001b[0m\n\u001b[0;32m---> 14\u001b[0;31m     \u001b[0massert_equal\u001b[0m\u001b[0;34m(\u001b[0m\u001b[0mJP_mean_sales\u001b[0m\u001b[0;34m,\u001b[0m\u001b[0;36m0.14665200626581515\u001b[0m\u001b[0;34m)\u001b[0m\u001b[0;34m\u001b[0m\u001b[0;34m\u001b[0m\u001b[0m\n\u001b[0m\u001b[1;32m     15\u001b[0m     \u001b[0massert_equal\u001b[0m\u001b[0;34m(\u001b[0m\u001b[0mEU_range_sales\u001b[0m\u001b[0;34m,\u001b[0m\u001b[0;36m29.02\u001b[0m\u001b[0;34m)\u001b[0m\u001b[0;34m\u001b[0m\u001b[0;34m\u001b[0m\u001b[0m\n\u001b[1;32m     16\u001b[0m     \u001b[0mprint\u001b[0m\u001b[0;34m(\u001b[0m\u001b[0;34m\"Success!!!\"\u001b[0m\u001b[0;34m)\u001b[0m\u001b[0;34m\u001b[0m\u001b[0;34m\u001b[0m\u001b[0m\n",
      "\u001b[0;32m/tmp/ipykernel_879/466837830.py\u001b[0m in \u001b[0;36massert_equal\u001b[0;34m(actual, expected)\u001b[0m\n\u001b[1;32m      1\u001b[0m \u001b[0;32mdef\u001b[0m \u001b[0mtest\u001b[0m\u001b[0;34m(\u001b[0m\u001b[0;34m)\u001b[0m\u001b[0;34m:\u001b[0m\u001b[0;34m\u001b[0m\u001b[0;34m\u001b[0m\u001b[0m\n\u001b[1;32m      2\u001b[0m     \u001b[0;32mdef\u001b[0m \u001b[0massert_equal\u001b[0m\u001b[0;34m(\u001b[0m\u001b[0mactual\u001b[0m\u001b[0;34m,\u001b[0m\u001b[0mexpected\u001b[0m\u001b[0;34m)\u001b[0m\u001b[0;34m:\u001b[0m\u001b[0;34m\u001b[0m\u001b[0;34m\u001b[0m\u001b[0m\n\u001b[0;32m----> 3\u001b[0;31m         \u001b[0;32massert\u001b[0m \u001b[0mactual\u001b[0m \u001b[0;34m==\u001b[0m \u001b[0mexpected\u001b[0m\u001b[0;34m,\u001b[0m \u001b[0;34mf\"Expected {expected} but got {actual}\"\u001b[0m\u001b[0;34m\u001b[0m\u001b[0;34m\u001b[0m\u001b[0m\n\u001b[0m\u001b[1;32m      4\u001b[0m     \u001b[0massert_equal\u001b[0m\u001b[0;34m(\u001b[0m\u001b[0mcommon_publisher\u001b[0m\u001b[0;34m,\u001b[0m \u001b[0;34m'Electronic Arts'\u001b[0m\u001b[0;34m)\u001b[0m\u001b[0;34m\u001b[0m\u001b[0;34m\u001b[0m\u001b[0m\n\u001b[1;32m      5\u001b[0m     \u001b[0massert_equal\u001b[0m\u001b[0;34m(\u001b[0m\u001b[0mcommon_platform\u001b[0m\u001b[0;34m,\u001b[0m \u001b[0;34m'DS'\u001b[0m\u001b[0;34m)\u001b[0m\u001b[0;34m\u001b[0m\u001b[0;34m\u001b[0m\u001b[0m\n",
      "\u001b[0;31mAssertionError\u001b[0m: Expected 0.14665200626581515 but got 0.077781660441017"
     ]
    }
   ],
   "source": [
    "def test():\n",
    "    def assert_equal(actual,expected):\n",
    "        assert actual == expected, f\"Expected {expected} but got {actual}\"\n",
    "    assert_equal(common_publisher, 'Electronic Arts')\n",
    "    assert_equal(common_platform, 'DS')\n",
    "    assert_equal(common_genre, 'Action')\n",
    "    assert_equal(top20_grossing_games.iloc[0], \"Wii Sports\")\n",
    "    assert_equal(top20_grossing_games.iloc[19], \"Brain Age: Train Your Brain in Minutes a Day\")\n",
    "    assert_equal(na_median_sales, 0.08)\n",
    "    assert_equal(na_std,50.47898767479108)\n",
    "    assert_equal(no_of_sales[0], 0.5233896418516336)\n",
    "    assert_equal(no_of_sales[1], 0.6994037735849057)\n",
    "    assert_equal(newest_game,2020.0)\n",
    "    assert_equal(JP_mean_sales,0.077781660441017)\n",
    "    assert_equal(EU_range_sales,29.02)\n",
    "    print(\"Success!!!\")\n",
    "\n",
    "test() \n"
   ]
  },
  {
   "cell_type": "code",
   "execution_count": null,
   "id": "f4daf6f7-e72e-4f13-8552-dc1bee4c49b6",
   "metadata": {},
   "outputs": [],
   "source": []
  }
 ],
 "metadata": {
  "kernelspec": {
   "display_name": "Python 3 (ipykernel)",
   "language": "python",
   "name": "python3"
  },
  "language_info": {
   "codemirror_mode": {
    "name": "ipython",
    "version": 3
   },
   "file_extension": ".py",
   "mimetype": "text/x-python",
   "name": "python",
   "nbconvert_exporter": "python",
   "pygments_lexer": "ipython3",
   "version": "3.8.10"
  }
 },
 "nbformat": 4,
 "nbformat_minor": 5
}
